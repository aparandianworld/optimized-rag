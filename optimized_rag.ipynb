{
 "cells": [
  {
   "cell_type": "code",
   "execution_count": 20,
   "id": "a9ab602e",
   "metadata": {},
   "outputs": [],
   "source": [
    "from langchain.text_splitter import CharacterTextSplitter\n",
    "from langchain.schema import Document\n",
    "\n",
    "import os"
   ]
  },
  {
   "cell_type": "code",
   "execution_count": 21,
   "id": "fc8e1dd7",
   "metadata": {},
   "outputs": [
    {
     "name": "stdout",
     "output_type": "stream",
     "text": [
      "List of files: ['product.md']\n",
      "Split text:  7\n",
      "Text data from files:  ['Synthetic Product Data for RAG App\\nBelow is a collection of synthetic data representing imaginary products for use in a sample Retrieval-Augmented Generation (RAG) application. Each product includes a name, description, category, price, and unique identifier.\\nProduct 1\\n\\nID: PRD-001\\nName: Quantum Widget\\nCategory: Electronics\\nPrice: $149.99\\nDescription: A cutting-edge quantum widget designed to optimize energy flow in smart home devices. Features a sleek design with voice-activated controls and compatibility with all major IoT platforms.\\n\\nProduct 2', 'Product 2\\n\\nID: PRD-002\\nName: EcoGlow Lamp\\nCategory: Home Decor\\nPrice: $79.50\\nDescription: An eco-friendly lamp that adjusts brightness based on ambient light. Made from recycled materials, it offers a warm, inviting glow and a battery life of up to 48 hours.\\n\\nProduct 3', 'Product 3\\n\\nID: PRD-003\\nName: HyperFit Tracker\\nCategory: Wearables\\nPrice: $199.00\\nDescription: A next-generation fitness tracker with real-time health monitoring, including heart rate, sleep patterns, and stress levels. Waterproof and equipped with a 7-day battery life.\\n\\nProduct 4', 'Product 4\\n\\nID: PRD-004\\nName: AeroBrew Coffee Maker\\nCategory: Kitchen Appliances\\nPrice: $129.95\\nDescription: A compact coffee maker that brews barista-quality coffee in under 2 minutes. Features customizable brew strength and a self-cleaning mechanism for easy maintenance.\\n\\nProduct 5\\n\\nID: PRD-005\\nName: SkyVault Storage Device\\nCategory: Tech Accessories\\nPrice: $249.99\\nDescription: A high-capacity, cloud-integrated storage device with advanced encryption for secure data management. Supports seamless file sharing across multiple devices.\\n\\nProduct 6', 'Product 6\\n\\nID: PRD-006\\nName: FlexiMat Yoga Mat\\nCategory: Fitness\\nPrice: $39.99\\nDescription: A durable, non-slip yoga mat with embedded sensors to track alignment and balance during workouts. Lightweight and foldable for easy storage.\\n\\nProduct 7\\n\\nID: PRD-007\\nName: SonicWave Headphones\\nCategory: Audio\\nPrice: $89.99\\nDescription: Wireless headphones with noise-canceling technology and crystal-clear sound quality. Offers up to 30 hours of playback and a quick-charge feature.\\n\\nProduct 8', 'Product 8\\n\\nID: PRD-008\\nName: SmartGrow Planter\\nCategory: Gardening\\nPrice: $64.99\\nDescription: A self-watering planter with built-in sensors to monitor soil moisture and nutrient levels. Perfect for growing herbs and small plants indoors.\\n\\nProduct 9\\n\\nID: PRD-009\\nName: TurboChill Fan\\nCategory: Home Appliances\\nPrice: $54.50\\nDescription: A portable, energy-efficient fan with adjustable speed settings and a quiet motor. Ideal for cooling small spaces with minimal power consumption.\\n\\nProduct 10', 'Product 10\\n\\nID: PRD-010\\nName: HoloLens Projector\\nCategory: Entertainment\\nPrice: $299.99\\nDescription: A compact holographic projector for immersive movie nights and gaming. Supports 4K resolution and wireless streaming from any device.']\n"
     ]
    }
   ],
   "source": [
    "# Configurable parameters\n",
    "data_dir = \"./data\"\n",
    "chunk_size = 128\n",
    "chunk_overlap = 32\n",
    "\n",
    "# Ensure data directory exits\n",
    "if not os.path.exists(data_dir):\n",
    "    os.makedirs(data_dir)\n",
    "\n",
    "# Get list of files\n",
    "files = os.listdir(data_dir)\n",
    "print(f\"List of files: {files}\")\n",
    "\n",
    "text_data_from_files = []\n",
    "for file in files:\n",
    "    try: \n",
    "        with open(os.path.join(data_dir, file), \"r\") as f:\n",
    "            file_data = f.read()\n",
    "        text_splitter = CharacterTextSplitter.from_tiktoken_encoder(\n",
    "            chunk_size = chunk_size,\n",
    "            chunk_overlap = chunk_overlap\n",
    "        )\n",
    "        split_text = text_splitter.split_text(file_data)\n",
    "        print(\"Split text: \", len(split_text))\n",
    "        \n",
    "        for index, chunked_text in enumerate(split_text):\n",
    "            text_data_from_files.append(Document(\n",
    "                page_content=chunked_text,\n",
    "                metadata = {\n",
    "                    \"source\": file, \n",
    "                    \"page_content\": chunked_text,\n",
    "                    \"title\": file.split(\".\")[0],\n",
    "                    \"chunk_index\": index\n",
    "                }\n",
    "            ))\n",
    "    except Exception as e:\n",
    "        print(f\"Error processing file {file}: {e}\")\n",
    "\n",
    "print(f\"Text data from files: \", [doc.page_content for doc in text_data_from_files])"
   ]
  }
 ],
 "metadata": {
  "kernelspec": {
   "display_name": ".venv",
   "language": "python",
   "name": "python3"
  },
  "language_info": {
   "codemirror_mode": {
    "name": "ipython",
    "version": 3
   },
   "file_extension": ".py",
   "mimetype": "text/x-python",
   "name": "python",
   "nbconvert_exporter": "python",
   "pygments_lexer": "ipython3",
   "version": "3.11.0"
  }
 },
 "nbformat": 4,
 "nbformat_minor": 5
}
